{
 "cells": [
  {
   "cell_type": "code",
   "execution_count": 1,
   "id": "7974e5c2",
   "metadata": {},
   "outputs": [],
   "source": [
    "import pandas as pd\n",
    "import matplotlib.pyplot as plt"
   ]
  },
  {
   "cell_type": "markdown",
   "id": "6181911d",
   "metadata": {},
   "source": [
    "This algorithm was created to check whether a product intended for human consumption has been cooked at the correct temperature and for the correct time to prevent food poisoning.\n",
    "\n",
    "This is a Critical Control Point (CCP) - compliance with established regulations is a legal requirement and a commitment to consumers’ well-being, making CCPs a cornerstone in the global food industry.\n",
    "\n",
    "For more details, visit: https://www.food.gov.uk/safety-hygiene/cooking-your-food\n",
    "\n",
    "AS IS PROCESS Cooking data is downloaded manually from data loggers as an excel file and saved in a folder. It is important to use the correct naming convention as this will ensure clarity in the traceability information. Then the algorithm loads the cooking data.\n",
    "\n",
    "Naming Convention - CookingNumber_ProductID_ChamberNumber_DataLoggerPosition(Top,Middle,Bottom)"
   ]
  },
  {
   "cell_type": "markdown",
   "id": "c2883623",
   "metadata": {},
   "source": [
    "Cooking/ Cooling temperatures and times requirements\n",
    "\n",
    "Equivalent process is an important term to understand when determining what temperature (and time at that temperature) is required when re-heating foods. The usual thermal process required when re-heating foods is to attain and hold a temperature of 70°C for two minutes. However, an equivalent process to this can be achieved by higher temperature and shorter times or by lower temperatures and longer times. There is a method to calculate this and the table below outlines the different time and temperature combinations calculated to achieve the same (equivalent) thermal process to two minutes at a temperature of 70°C.\n",
    "\n",
    "! For quality reasons, temperature higher than 70°C is not permitted."
   ]
  },
  {
   "cell_type": "code",
   "execution_count": 2,
   "id": "8f0cad5f",
   "metadata": {},
   "outputs": [],
   "source": [
    "# Table of cooking temperature and time requirements\n",
    "cooking_combinations = pd.DataFrame({\n",
    "    'Temp [°C]': [70, 65, 60], \n",
    "    'Time [min]': [2, 10, 45], \n",
    "    })\n",
    "\n",
    "# Table of cooling temperature and time requirements\n",
    "cooling_combinations = pd.DataFrame({\n",
    "    'Temp [°C]': [4, 5],\n",
    "    'Time [min]': [240, 300],\n",
    "    })"
   ]
  },
  {
   "cell_type": "code",
   "execution_count": 3,
   "id": "9bc8724e",
   "metadata": {},
   "outputs": [],
   "source": [
    "# File name \n",
    "file_path = \"20K30_12348_CH2_TOP\"+\".xlsx\" \n",
    "\n",
    "# Create a DataFrame from the provided file\n",
    "cooking_data = pd.read_excel(file_path)\n",
    "\n",
    "# Create a list with names of data frame columns\n",
    "columns_names = list(cooking_data.columns)"
   ]
  },
  {
   "cell_type": "code",
   "execution_count": 4,
   "id": "431cacff",
   "metadata": {},
   "outputs": [],
   "source": [
    "# Data is downloaded from oldest to newest. Data reversing required\n",
    "cooking_data = cooking_data.loc[reversed(cooking_data.index)].reset_index(drop=True)\n",
    "\n",
    "# This variable verifies whether the data verification process is approved\n",
    "quality_check = \"Pass\" \n",
    "\n",
    "# Check if there is any missing date or temperature data.\n",
    "# If so, stop the process and inform the Quality Manager immediately.\n",
    "\n",
    "time_column_cleaning = cooking_data[\"Time\"].isnull().sum()\n",
    "temp_column_cleaning = cooking_data[\"Temp\"].isnull().sum()\n",
    "\n",
    "if time_column_cleaning > 0:\n",
    "    quality_check = \"Fail\" # Set Quality Check to FAIL\n",
    "    print(\"Missing Time data\")\n",
    "    print(cooking_data.to_string()) # Print row data so that the auditor can visually verify cooking\n",
    "    \n",
    "if temp_column_cleaning > 0:\n",
    "    quality_check = \"Fail\"\n",
    "    print(\"Missing Temp data\")\n",
    "    print(cooking_data.to_string()) # Print row data so that the auditor can visually verify cooking"
   ]
  },
  {
   "cell_type": "code",
   "execution_count": 5,
   "id": "c4a8ba6c",
   "metadata": {},
   "outputs": [],
   "source": [
    "if quality_check == \"Pass\": # Start only if quality check passed\n",
    "    \n",
    "    core_temp = \"\"\n",
    "    cooking_validation = \"\"\n",
    "    \n",
    "    for i in cooking_combinations.index: # Loop 1\n",
    "        \n",
    "        # This Loop allows to iterate through the cooking_combinations table and\n",
    "        # runs until end of the index or validation is passed. \n",
    "        \n",
    "        x = len(cooking_data)-1 # Reset \"x\" to start looping from the beginning\n",
    "       \n",
    "        while True: # Loop 2; repeat forever unless it reaches \"break\" \n",
    "                    \n",
    "            # It is possible that there will be several points that reached\n",
    "            # the core temp but not for the required amount of time. So, if \n",
    "            # the first period of cooking time found is failed, the algoritms \n",
    "            # check the next one at so on until  x = 0 or validation is passed. \n",
    "           \n",
    "            while x >= 0: # Loop 3; Find tima of end cooking\n",
    "                if cooking_data.loc[x, columns_names[1]] >= cooking_combinations.loc[i, 'Temp [°C]']:\n",
    "                    cooking_time_end = cooking_data.loc[x, columns_names[0]]\n",
    "                    core_temp = cooking_combinations.loc[i, 'Temp [°C]']\n",
    "                    break # finished; exit the loop 3\n",
    "                x -= 1\n",
    "            \n",
    "            if x + 1 == 0:\n",
    "                break # finished; exit the loop 2\n",
    "            \n",
    "            while x >= 0:  # Loop 4; Find tima of start cooking\n",
    "                if cooking_data.loc[x, columns_names[1]] < cooking_combinations.loc[i, 'Temp [°C]']: \n",
    "                    cooking_time_start = cooking_data.loc[x+1, columns_names[0]]\n",
    "                    break # finished; exit the loop 4\n",
    "                x -= 1\n",
    "            \n",
    "            if x + 1 == 0:\n",
    "                break # finished; exit the loop 2\n",
    "            \n",
    "            # Calculates cooking time\n",
    "            total_cooking_time_in_min = round((cooking_time_end - cooking_time_start).total_seconds() / 60)\n",
    "            \n",
    "            # Checks if the cooking time is long enough\n",
    "            if total_cooking_time_in_min >= cooking_combinations.loc[i, 'Time [min]']:\n",
    "                control_cooking_temp = cooking_combinations.loc[i, 'Time [min]']\n",
    "                cooking_validation = \"Pass\"\n",
    "                break # finished; exit the loop 2\n",
    "\n",
    "        if cooking_validation == \"Pass\":\n",
    "            break  # finished; exit Loop 1"
   ]
  },
  {
   "cell_type": "code",
   "execution_count": 6,
   "id": "bd02679a",
   "metadata": {},
   "outputs": [
    {
     "name": "stdout",
     "output_type": "stream",
     "text": [
      "Pass Cooking Validation\n"
     ]
    }
   ],
   "source": [
    "# Print result of cooking validation\n",
    "if cooking_validation == \"Pass\":\n",
    "    print(\"Pass Cooking Validation\")\n",
    "elif core_temp == \"\":\n",
    "    print(\"Cooking data invalid. Core temp has not been found\")\n",
    "elif cooking_validation == \"\" and core_temp != \"\":\n",
    "    print(\"Cooking time failed - too short\")  "
   ]
  },
  {
   "cell_type": "code",
   "execution_count": 7,
   "id": "5f8bd889",
   "metadata": {},
   "outputs": [
    {
     "name": "stdout",
     "output_type": "stream",
     "text": [
      "Pass Cooling Validation at 5 °C\n"
     ]
    }
   ],
   "source": [
    "if cooking_validation == \"Pass\": # Start only if cooking validation passed\n",
    "    \n",
    "    cooling_time_start = \"\"\n",
    "    cooling_time_end = \"\"\n",
    "    result = \"Fail\"\n",
    "    \n",
    "    search_cooling_time_until = x # This ensures that only post-cooking time interval will be analysed.\n",
    "\n",
    "    for j in cooling_combinations.index: # Loop 1\n",
    "        \n",
    "        # This Loop allows to iterate through the cooling_combinations table and\n",
    "        # runs until end of the index or cooling validation is passed \n",
    "\n",
    "        while x <= len(cooking_data)-1: # Loop 2; Find tima of start cooling. \n",
    "            if cooking_data.loc[x, columns_names[1]] <= 63: \n",
    "                cooling_time_start = cooking_data.loc[x, columns_names[0]]\n",
    "                break # finished; exit Loop 2\n",
    "            x += 1\n",
    "\n",
    "        x = len(cooking_data)-1 # Reset \"x\" to start looping from the beginning\n",
    "\n",
    "        while x >= search_cooling_time_until: # Loop 3; Find tima of end cooling. \n",
    "            if cooking_data.loc[x, columns_names[1]] <= cooling_combinations.loc[j, 'Temp [°C]']: \n",
    "                cooling_time_end = cooking_data.loc[x, columns_names[0]]\n",
    "                break # finished; exit Loop 3\n",
    "            x -= 1\n",
    "\n",
    "        if cooling_time_end == \"\": \n",
    "            continue # Quick check to find if fisrt core temp has been found, if no then go to next i\n",
    "        \n",
    "        # Calculates cooling time\n",
    "        total_cooling_time_in_min = round((cooling_time_end - cooking_time_start).total_seconds() / 60,2)  \n",
    "\n",
    "        # Checks if the cooling time is long enough\n",
    "        if total_cooling_time_in_min <= cooling_combinations.loc[j, 'Time [min]']:\n",
    "            control_cooling_time = cooling_combinations.loc[j, 'Time [min]']\n",
    "            print(\"Pass Cooling Validation at\", cooling_combinations.loc[j, 'Temp [°C]'], \"°C\")\n",
    "            result = \"Pass\" # The final result for whole validation\n",
    "            break # finished; exit Loop 1"
   ]
  },
  {
   "cell_type": "code",
   "execution_count": 8,
   "id": "32fc23d1",
   "metadata": {},
   "outputs": [],
   "source": [
    "# Find postions of all \"_\" in the file name. This allows you to extract the following data\n",
    "positions = [i for i, char in enumerate(file_path) if char == \"_\"]\n",
    "\n",
    "# Set traceability information. To be extracted from the file name\n",
    "cooking_number = file_path[:positions[0]] \n",
    "product_code = file_path[positions[0]+1:positions[1]]\n",
    "chamber_no = file_path[positions[1]+1:positions[2]]\n",
    "logger_position = file_path[positions[2]+1:file_path.find(\".\")]\n",
    "\n",
    "cooking_date = str(cooking_time_start)[:10]\n",
    "\n",
    "import os \n",
    "auditor = os.getlogin() # Set auditor details\n",
    "\n",
    "# Set date and time of cooking validation\n",
    "import datetime \n",
    "auditing_date = str(datetime.datetime.now())[:10]\n",
    "auditing_time = str(datetime.datetime.now())[11:16]\n",
    "\n",
    "# Create Data Frame from cooking validation results\n",
    "new_data = pd.DataFrame({\n",
    "    \"auditing_date\":[auditing_date],\n",
    "    \"auditing_time\":[auditing_time],\n",
    "    \"cooking_number\":[cooking_number],\n",
    "    \"cooking_date\": [cooking_date], \n",
    "    \"product_code\": [product_code],\n",
    "    \"chamber_no\":[chamber_no],\n",
    "    \"logger_position\": [logger_position], \n",
    "    \"core_temp\": [core_temp],\n",
    "    \"control_cooking_temp\":[control_cooking_temp],\n",
    "    \"total_cooking_time_in_min\":[total_cooking_time_in_min],\n",
    "    \"control_cooling_time\": [control_cooling_time], \n",
    "    \"total_cooling_time_in_min\": [total_cooling_time_in_min],\n",
    "    \"result\": [result]\n",
    "    })"
   ]
  },
  {
   "cell_type": "code",
   "execution_count": 9,
   "id": "308440dd",
   "metadata": {},
   "outputs": [
    {
     "name": "stdout",
     "output_type": "stream",
     "text": [
      "Data added successfully!\n"
     ]
    }
   ],
   "source": [
    "file_path1 = \"BazaDanych.xlsx\"\n",
    "\n",
    "# Read the existing Excel file\n",
    "data_base = pd.read_excel(file_path1,sheet_name=\"Cooking Results\")\n",
    "\n",
    "# Append the new data (cooking validation results) to the existing DataFrame\n",
    "df_combined = pd.concat([data_base, new_data]).reset_index(drop=True)\n",
    "\n",
    "# Save the updated DataFrame back to the Excel file\n",
    "# use `with` to avoid other exceptions\n",
    "with pd.ExcelWriter(file_path1, mode=\"a\", engine=\"openpyxl\", if_sheet_exists='overlay') as writer:\n",
    "    df_combined.to_excel(writer, sheet_name=\"Cooking Results\",index=False)\n",
    "    worksheet = writer.sheets[\"Cooking Results\"]\n",
    "    writer.close\n",
    "\n",
    "    print(\"Data added successfully!\")"
   ]
  }
 ],
 "metadata": {
  "kernelspec": {
   "display_name": "Python 3 (ipykernel)",
   "language": "python",
   "name": "python3"
  },
  "language_info": {
   "codemirror_mode": {
    "name": "ipython",
    "version": 3
   },
   "file_extension": ".py",
   "mimetype": "text/x-python",
   "name": "python",
   "nbconvert_exporter": "python",
   "pygments_lexer": "ipython3",
   "version": "3.11.4"
  }
 },
 "nbformat": 4,
 "nbformat_minor": 5
}
